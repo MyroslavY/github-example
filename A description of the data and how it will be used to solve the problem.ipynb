{
 "cells": [
  {
   "cell_type": "markdown",
   "metadata": {},
   "source": [
    "# A description of the data and how it will be used to solve the problem\n",
    "The data regarding the districts in Vienna need to be researched and a suitable useable open source with this data identified. If it is found in an unusable format, data wrangling and cleaning will have to be performed.\n",
    "The cleansed data will then be used alongside Foursquare data, which is readily available. Foursquare location data will be leveraged to explore and compare districts around Vienna, identifying the high crowded areas where consumers go for shopping, dining, and entertainment - the areas where the stockholders are most interested in opening a new restaurant. This is the business model chosen by our stockholders. Even if our stockholders decide to open a new restaurant in another location (location with a low level of competition), we can change the approach. \n",
    "### Discussion and Conclusions:\n",
    "Recommendations and results based on data analysis.\n",
    "Discussion of any limitations and how the results can be used, and any conclusions that can be drawn.\n"
   ]
  },
  {
   "cell_type": "code",
   "execution_count": null,
   "metadata": {},
   "outputs": [],
   "source": []
  }
 ],
 "metadata": {
  "kernelspec": {
   "display_name": "Python",
   "language": "python",
   "name": "conda-env-python-py"
  },
  "language_info": {
   "codemirror_mode": {
    "name": "ipython",
    "version": 3
   },
   "file_extension": ".py",
   "mimetype": "text/x-python",
   "name": "python",
   "nbconvert_exporter": "python",
   "pygments_lexer": "ipython3",
   "version": "3.6.10"
  }
 },
 "nbformat": 4,
 "nbformat_minor": 4
}

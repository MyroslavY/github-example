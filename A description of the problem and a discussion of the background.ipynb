{
 "cells": [
  {
   "cell_type": "markdown",
   "metadata": {},
   "source": [
    "# A description of the problem and a discussion of the background.\n",
    "### Problem Background:\n",
    "The City of Vienna is the most populated city in Austria. It is diverse and is known as the financial capital of Austria. It also provides a lot of business opportunities and has a business-friendly environment. Vienna is a global hub of business and commerce in its region. The city is a major center for banking and finance, transportation, tourism, legal services, accountancy, insurance, theater, fashion, and the arts in Europe.\n",
    "\n",
    "This also means that the market is highly competitive. As it is a highly developed city, therefore, the cost of doing business is also one of the highest in Europe. Thus, any new business venture or expansion needs to be analyzed carefully. The insights derived from the analysis will give a good understanding of the business environment which helps in strategically targeting the market. This will help in the reduction of risk. And the Return on Investment will be reasonable.\n",
    "### Problem Description:\n",
    "A restaurant business is one of the most difficult businesses, as there are too many factors that influence the results. However, the profit margin is also quite high. \n",
    "In the city of Vienna, we can observe a huge variety of restaurants, café, bars, night clubs, etc. Therefore, it is extremely important to have a strategic plan to survive in such a competitive market. Several key factors need to be studied in order to decide what location is better to choose or what kind of restaurant to open. For example:\n",
    "* The population of the city of Vienna;\n",
    "* Demographic statistics of the city of Vienna;\n",
    "* Segmentation of the boroughs of the city of Vienna;\n",
    "* Types of food services: restaurant, café, bar, etc.;\n",
    "* Competitors in the respective boroughs of the city of Vienna;\n",
    "* The most crowded places, such as business centers, historical places, entertainment zones, parks, etc.;\n",
    "* Other factors that have an impact on decision-making which location to choose.\n",
    "\n",
    "### Target Audience:\n",
    "A group of stakeholders has appointed me to lead the Data Science team. They are expecting me to recommend which neighborhood of Vienna city will be the best choice to start a restaurant. Management also expects to understand the rationale of the recommendations made."
   ]
  },
  {
   "cell_type": "code",
   "execution_count": null,
   "metadata": {},
   "outputs": [],
   "source": []
  }
 ],
 "metadata": {
  "kernelspec": {
   "display_name": "Python",
   "language": "python",
   "name": "conda-env-python-py"
  },
  "language_info": {
   "codemirror_mode": {
    "name": "ipython",
    "version": 3
   },
   "file_extension": ".py",
   "mimetype": "text/x-python",
   "name": "python",
   "nbconvert_exporter": "python",
   "pygments_lexer": "ipython3",
   "version": "3.6.10"
  }
 },
 "nbformat": 4,
 "nbformat_minor": 4
}
